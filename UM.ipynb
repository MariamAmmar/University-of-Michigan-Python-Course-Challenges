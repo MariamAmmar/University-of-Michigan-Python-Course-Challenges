{
 "cells": [
  {
   "cell_type": "markdown",
   "metadata": {},
   "source": [
    "## Univery of Michigan Coursera Course Challenges and Assessments"
   ]
  },
  {
   "cell_type": "code",
   "execution_count": 14,
   "metadata": {},
   "outputs": [
    {
     "data": {
      "text/plain": [
       "'You are doing a great job keep it up!'"
      ]
     },
     "execution_count": 14,
     "metadata": {},
     "output_type": "execute_result"
    }
   ],
   "source": [
    "# Combine all of these strings. \n",
    "by = \"You are\"\n",
    "az = \"doing a great \"\n",
    "io = \"job\"\n",
    "qy = \"keep it up!\"\n",
    "\n",
    "message = ''.join(by+ ' ' + az + '' + io + ' ' + qy)\n",
    "message"
   ]
  },
  {
   "cell_type": "code",
   "execution_count": 22,
   "metadata": {
    "jupyter": {
     "source_hidden": true
    }
   },
   "outputs": [
    {
     "data": {
      "text/plain": [
       "37"
      ]
     },
     "execution_count": 22,
     "metadata": {},
     "output_type": "execute_result"
    }
   ],
   "source": [
    "#Output the sum of all of the numbers in this string\n",
    "\n",
    "addition_str = \"2+5+10+20\"\n",
    "\n",
    "sum_strings = []\n",
    "\n",
    "splitted = addition_str.split(\"+\")\n",
    "numsum = sum([int(i) for i in splitted])\n",
    "numsum\n",
    "\n",
    "\n",
    "for i in splitted:\n",
    "    i = int(i)\n",
    "    sum_strings.append(i)\n",
    "    \n",
    "sum_strings = sum(sum_strings)\n",
    "sum_strings"
   ]
  },
  {
   "cell_type": "code",
   "execution_count": 2,
   "metadata": {},
   "outputs": [
    {
     "data": {
      "text/plain": [
       "80.67142857142858"
      ]
     },
     "execution_count": 2,
     "metadata": {},
     "output_type": "execute_result"
    }
   ],
   "source": [
    "#Come up with the average for Temperatures, but do not hardcode them. \n",
    "week_temps_f = \"75.1,77.7,83.2,82.5,81.0,79.5,85.7\"\n",
    "avg_temp = week_temps_f.split(\",\")\n",
    "avg_temp = [float(i) for i in avg_temp]\n",
    "avg_temp = sum(avg_temp)/len(avg_temp)\n"
   ]
  },
  {
   "cell_type": "code",
   "execution_count": 11,
   "metadata": {},
   "outputs": [],
   "source": [
    "# Write code to create a list of numbers from 0 to 67 and assign that list to the variable nums. Do not hard code the list.\n",
    "nums = list(range(0, 68))"
   ]
  },
  {
   "cell_type": "code",
   "execution_count": 15,
   "metadata": {},
   "outputs": [
    {
     "name": "stdout",
     "output_type": "stream",
     "text": [
      "The\n",
      "quick\n",
      "brown\n",
      "rhino\n",
      "jumped\n",
      "over\n",
      "the\n",
      "extremely\n",
      "lazy\n",
      "fox\n"
     ]
    }
   ],
   "source": [
    "#Write code to create a list of word lengths for the words in original_str using the accumulation pattern and assign the answer to a variable num_words_list. (You should use the len function).\n",
    "original_str = \"The quick brown rhino jumped over the extremely lazy fox\"\n",
    "original_words = original_str.split(' ')\n",
    "num_words_list = [len(i) for i in original_words]\n"
   ]
  },
  {
   "cell_type": "code",
   "execution_count": 19,
   "metadata": {},
   "outputs": [
    {
     "data": {
      "text/plain": [
       "'bbbbbbb'"
      ]
     },
     "execution_count": 19,
     "metadata": {},
     "output_type": "execute_result"
    }
   ],
   "source": [
    "#Create an empty string and assign it to the variable lett.\n",
    "#Then using range, write code such that when your code is run, lett has 7 b’s (\"bbbbbbb\").\n",
    "lett = '' \n",
    "for i in range(0,7):\n",
    "    lett+='b'\n",
    "    \n",
    "lett"
   ]
  },
  {
   "cell_type": "code",
   "execution_count": 14,
   "metadata": {},
   "outputs": [],
   "source": [
    "#Write code that will count the number of vowels in the sentence s and assign the result to the \n",
    "#variable num_vowels. For this problem, vowels are only a, e, i, o, and u. Hint: use the in operator with vowels.\n",
    "\n",
    "\n",
    "s = \"singing in the rain and playing in the rain are two entirely different situations but both can be fun\"\n",
    "vowels = ['a','e','i','o','u']\n",
    "\n",
    "# Write your code here.\n",
    "num_vowels = []\n",
    "\n",
    "for i in s:\n",
    "    for char in i:\n",
    "        if str(vowels) in i:\n",
    "            num_vowels.append(char) \n",
    "    else:\n",
    "        pass\n",
    "              \n",
    "num_vowels = len(num_vowels) \n",
    "\n"
   ]
  },
  {
   "cell_type": "code",
   "execution_count": 3,
   "metadata": {},
   "outputs": [],
   "source": [
    "#Below are a set of scores that students have received in the past semester. Write code to determine how many are 90 or above and assign that result to the value a_scores\n",
    "scores = \"67 80 90 78 93 20 79 89 96 97 92 88 79 68 58 90 98 100 79 74 83 88 80 86 85 70 90 100\"\n",
    "scores = scores.split(' ')\n",
    "a_scores = []\n",
    "\n",
    "for i in scores:\n",
    "    i = int(i) \n",
    "    if i >= 90:\n",
    "        a_scores.append(i) \n",
    "    else:\n",
    "        pass\n",
    "    \n",
    "a_scores = len(a_scores)"
   ]
  },
  {
   "cell_type": "code",
   "execution_count": 19,
   "metadata": {},
   "outputs": [
    {
     "data": {
      "text/plain": [
       "'OHSE'"
      ]
     },
     "execution_count": 19,
     "metadata": {},
     "output_type": "execute_result"
    }
   ],
   "source": [
    "#Write code that uses the string stored in org and creates an acronym which is assigned to the variable acro. Only the first letter of each word should be used, each letter in the acronym should be a capital letter, and there should be nothing to separate the letters of the acronym. Words that should not be included in the acronym are stored in the list stopwords. For example, if org was assigned the string “hello to world” then the resulting acronym should be “HW”.\n",
    "\n",
    "stopwords = ['to', 'a', 'for', 'by', 'an', 'am', 'the', 'so', 'it', 'and', \"The\"]\n",
    "org = \"The organization for health, safety, and education\"\n",
    "org = org.split(' ')\n",
    "\n",
    "acro = []\n",
    "\n",
    "for i in org:\n",
    "    if i in stopwords:\n",
    "        pass\n",
    "    else:\n",
    "        acro.append(i[0].upper())\n",
    "\n",
    "\n",
    "acro = ''.join(acro)\n",
    "acro"
   ]
  },
  {
   "cell_type": "code",
   "execution_count": 20,
   "metadata": {},
   "outputs": [
    {
     "name": "stdout",
     "output_type": "stream",
     "text": [
      "False\n"
     ]
    }
   ],
   "source": [
    "#A palindrome is a phrase that, if reversed, would read the exact same. Write code that checks if p_phrase is a palindrome by reversing it and then checking if the reversed version is equal to the original. Assign the reversed version of p_phrase to the variable r_phrase so that we can check your work.\n",
    "\n",
    "p_phrase = \"was it a car or a cat I saw\"\n",
    "# p_phrase = p_phrase.split(\" \")\n",
    "\n",
    "def my_function(x):\n",
    "  return x[::-1]\n",
    "\n",
    "r_phrase = my_function(p_phrase)\n",
    "\n",
    "if p_phrase == r_phrase:\n",
    "    print(True)\n",
    "else:\n",
    "    print(False)\n",
    "\n"
   ]
  },
  {
   "cell_type": "code",
   "execution_count": 31,
   "metadata": {},
   "outputs": [
    {
     "name": "stdout",
     "output_type": "stream",
     "text": [
      "The store has  12 shoes, each for  29.99 USD.\n",
      "The store has  20 shirts, each for  9.99 USD.\n",
      "The store has  25 sweatpants, each for  15.00 USD.\n",
      "The store has  13 scarves, each for  7.75 USD.\n"
     ]
    }
   ],
   "source": [
    "#Provided is a list of data about a store’s inventory where each item in the list represents the name of an item, how much is in stock, and how much it costs. Print out each item in the list with the same formatting, using the .format method (not string concatenation). For example, the first print statment should read The store has 12 shoes, each for 29.99 USD.\n",
    "\n",
    "inventory = [\"shoes, 12, 29.99\", \"shirts, 20, 9.99\", \"sweatpants, 25, 15.00\", \"scarves, 13, 7.75\"]\n",
    "\n",
    "for i in inventory:\n",
    "    sep = i.split(',')\n",
    "    print(\"The store has {} {}, each for {} USD.\".format(sep[1],sep[0],sep[2]))\n"
   ]
  },
  {
   "cell_type": "code",
   "execution_count": null,
   "metadata": {},
   "outputs": [],
   "source": []
  }
 ],
 "metadata": {
  "kernelspec": {
   "display_name": "Python 3",
   "language": "python",
   "name": "python3"
  },
  "language_info": {
   "codemirror_mode": {
    "name": "ipython",
    "version": 3
   },
   "file_extension": ".py",
   "mimetype": "text/x-python",
   "name": "python",
   "nbconvert_exporter": "python",
   "pygments_lexer": "ipython3",
   "version": "3.7.7"
  }
 },
 "nbformat": 4,
 "nbformat_minor": 4
}
