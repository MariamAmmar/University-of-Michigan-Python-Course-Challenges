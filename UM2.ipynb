{
 "cells": [
  {
   "cell_type": "markdown",
   "metadata": {},
   "source": [
    "# University of Michigan Python Specialization Part 2"
   ]
  },
  {
   "cell_type": "markdown",
   "metadata": {},
   "source": [
    "Find the least frequent letter. Create the dictionary characters that shows each character from string sally and its frequency. Then, find the least frequent letter in the string and assign the letter to the variable worst_char."
   ]
  },
  {
   "cell_type": "code",
   "execution_count": 13,
   "metadata": {},
   "outputs": [
    {
     "data": {
      "text/plain": [
       "['n']"
      ]
     },
     "execution_count": 13,
     "metadata": {},
     "output_type": "execute_result"
    }
   ],
   "source": [
    "sally = \"sally sells sea shells by the sea shore and by the road\"\n",
    "\n",
    "characters = {}\n",
    "\n",
    "\n",
    "for i in sally:\n",
    "    if i in characters:\n",
    "        characters[i] +=1\n",
    "    else:\n",
    "        characters[i] = 1\n",
    "\n",
    "\n",
    "worst = min(characters.values()) \n",
    "worst_char = []\n",
    "\n",
    "for i in characters:\n",
    "    if characters[i] <= worst:\n",
    "        worst_char.append(i)\n",
    "        \n",
    "worst_char"
   ]
  },
  {
   "cell_type": "markdown",
   "metadata": {},
   "source": [
    "Create a dictionary named letter_counts that contains each letter and the number of times it occurs in string1. Challenge: Letters should not be counted separately as upper-case and lower-case. Intead, all of them should be counted as lower-case.\n"
   ]
  },
  {
   "cell_type": "code",
   "execution_count": 22,
   "metadata": {},
   "outputs": [
    {
     "data": {
      "text/plain": [
       "{'t': 19,\n",
       " 'h': 11,\n",
       " 'e': 29,\n",
       " 'r': 12,\n",
       " ' ': 57,\n",
       " 'i': 14,\n",
       " 's': 15,\n",
       " 'a': 17,\n",
       " 'd': 7,\n",
       " 'n': 15,\n",
       " 'f': 9,\n",
       " 'o': 17,\n",
       " 'm': 4,\n",
       " 'w': 6,\n",
       " 'c': 3,\n",
       " 'k': 2,\n",
       " 'l': 11,\n",
       " 'u': 8,\n",
       " 'v': 3,\n",
       " 'y': 1,\n",
       " 'g': 1,\n",
       " 'b': 1}"
      ]
     },
     "execution_count": 22,
     "metadata": {},
     "output_type": "execute_result"
    }
   ],
   "source": [
    "string1 = \"There is a tide in the affairs of men, Which taken at the flood, leads on to fortune. Omitted, all the voyage of their life is bound in shallows and in miseries. On such a full sea are we now afloat. And we must take the current when it serves, or lose our ventures.\"\n",
    "string1 = string1.lower().replace(\",\",\" \").replace(\".\",\"\")\n",
    "\n",
    "letter_counts = {}\n",
    "\n",
    "for i in string1:\n",
    "    if i in letter_counts:\n",
    "        letter_counts[i] +=1\n",
    "    else:\n",
    "        letter_counts[i] = 1\n",
    "\n",
    "letter_counts"
   ]
  },
  {
   "cell_type": "markdown",
   "metadata": {},
   "source": [
    "Given is the dictionary, gold, which shows the country and the number of gold medals they have earned so far in the 2016 Olympics. Create a list, num_medals, that contains only the number of medals for each country. You must use the .items() method. Note: The .items() method provides a list of tuples. Do not use .keys() method.\n"
   ]
  },
  {
   "cell_type": "code",
   "execution_count": 6,
   "metadata": {},
   "outputs": [],
   "source": [
    "gold = {'USA':31, 'Great Britain':19, 'China':19, 'Germany':13, 'Russia':12, 'Japan':10, 'France':8, 'Italy':8}\n",
    "\n",
    "num_medals = []\n",
    "\n",
    "for i in gold.items():\n",
    "    num_medals.append(i[1])"
   ]
  },
  {
   "cell_type": "markdown",
   "metadata": {},
   "source": [
    "Write a function, sublist, that takes in a list of numbers as the parameter. In the function, use a while loop to return a sublist of the input list. The sublist should contain the same values of the original list up until it reaches the number 5 (it should not contain the number 5).\n",
    "\n"
   ]
  },
  {
   "cell_type": "code",
   "execution_count": null,
   "metadata": {},
   "outputs": [],
   "source": [
    "def sublist(x):\n",
    "    sub = []\n",
    "    x = (num for num in x)  # create a generator\n",
    "    num = next(x, 5)  \n",
    "    while num != 5:\n",
    "        sub.append(num)\n",
    "        num = next(x, 5)  # iterate\n",
    "    return sub"
   ]
  },
  {
   "cell_type": "markdown",
   "metadata": {},
   "source": [
    "Write a function, sublist, that takes in a list of strings as the parameter. In the function, use a while loop to return a sublist of the input list. The sublist should contain the same values of the original list up until it reaches the string “STOP” (it should not contain the string “STOP”)."
   ]
  },
  {
   "cell_type": "code",
   "execution_count": null,
   "metadata": {},
   "outputs": [],
   "source": [
    "def sublist(list):\n",
    "    i=0\n",
    "    New_list=[]\n",
    "    \n",
    "    while i < len(list):\n",
    "        if list[i] == \"STOP\":\n",
    "            break\n",
    "        New_list.append(list[i])\n",
    "        i=i+1\n",
    "    return New_list\n",
    "New_string_list=[\"aam\",\"jaam\",\"kola\",\"pepe\",\"kathal\"]\n",
    "\n",
    "list=New_string_list\n",
    "\n",
    "print (sublist(list))"
   ]
  },
  {
   "cell_type": "markdown",
   "metadata": {},
   "source": [
    "Below is a for loop that works. Underneath the for loop, rewrite the problem so that it does the same thing, but using a while loop instead of a for loop. Assign the accumulated total in the while loop code to the variable sum2. Once complete, sum2 should equal sum1."
   ]
  },
  {
   "cell_type": "code",
   "execution_count": null,
   "metadata": {},
   "outputs": [],
   "source": [
    "sum1 = 0\n",
    "\n",
    "lst = [65, 78, 21, 33]\n",
    "\n",
    "for x in lst:\n",
    "    sum1 = sum1 + x\n",
    "\n",
    "\n",
    "\n",
    "i=0\n",
    "sum2=0\n",
    "while i <len(lst):\n",
    "    sum2=sum2+lst[i]\n",
    "    i=i+1\n",
    "    \n"
   ]
  },
  {
   "cell_type": "markdown",
   "metadata": {},
   "source": [
    "Challenge: Write a function called beginning that takes a list as input and contains a while loop that only stops once the element of the list is the string ‘bye’. What is returned is a list that contains up to the first 10 strings, regardless of where the loop stops. (i.e., if it stops on the 32nd element, the first 10 are returned. If “bye” is the 5th element, the first 4 are returned.) If you want to make this even more of a challenge, do this without slicing\n",
    "\n"
   ]
  },
  {
   "cell_type": "markdown",
   "metadata": {},
   "source": [
    "Write a function called check_nums that takes a list as its parameter, and contains a while loop that only stops once the element of the list is the number 7. What is returned is a list of all of the numbers up until it reaches 7.\n",
    "\n"
   ]
  },
  {
   "cell_type": "code",
   "execution_count": 6,
   "metadata": {},
   "outputs": [
    {
     "data": {
      "text/plain": [
       "[0]"
      ]
     },
     "execution_count": 6,
     "metadata": {},
     "output_type": "execute_result"
    }
   ],
   "source": [
    "lst = [0,2,4,9,2,3,6,8,12,14,7,9,10,8,3]\n",
    "\n",
    "def check_nums(x):\n",
    "    i = 0\n",
    "    new_lst = []\n",
    "    \n",
    "    while i <len(x):   \n",
    "        if x[i] != 7:\n",
    "            new_lst.append(x[i])\n",
    "            i = i+1\n",
    "        break\n",
    "    return new_lst\n",
    "\n",
    "\n",
    "check_nums(lst)"
   ]
  },
  {
   "cell_type": "code",
   "execution_count": null,
   "metadata": {},
   "outputs": [],
   "source": []
  }
 ],
 "metadata": {
  "kernelspec": {
   "display_name": "Python 3",
   "language": "python",
   "name": "python3"
  },
  "language_info": {
   "codemirror_mode": {
    "name": "ipython",
    "version": 3
   },
   "file_extension": ".py",
   "mimetype": "text/x-python",
   "name": "python",
   "nbconvert_exporter": "python",
   "pygments_lexer": "ipython3",
   "version": "3.7.7"
  }
 },
 "nbformat": 4,
 "nbformat_minor": 4
}
